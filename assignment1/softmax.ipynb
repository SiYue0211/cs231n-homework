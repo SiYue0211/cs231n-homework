{
 "cells": [
  {
   "cell_type": "markdown",
   "metadata": {},
   "source": [
    "# Softmax exercise\n",
    "\n",
    "*Complete and hand in this completed worksheet (including its outputs and any supporting code outside of the worksheet) with your assignment submission. For more details see the [assignments page](http://vision.stanford.edu/teaching/cs231n/assignments.html) on the course website.*\n",
    "\n",
    "This exercise is analogous to the SVM exercise. You will:\n",
    "\n",
    "- implement a fully-vectorized **loss function** for the Softmax classifier\n",
    "- implement the fully-vectorized expression for its **analytic gradient**\n",
    "- **check your implementation** with numerical gradient\n",
    "- use a validation set to **tune the learning rate and regularization** strength\n",
    "- **optimize** the loss function with **SGD**\n",
    "- **visualize** the final learned weights\n"
   ]
  },
  {
   "cell_type": "code",
   "execution_count": 1,
   "metadata": {},
   "outputs": [],
   "source": [
    "import random\n",
    "import numpy as np\n",
    "from cs231n.data_utils import load_CIFAR10\n",
    "import matplotlib.pyplot as plt\n",
    "\n",
    "from __future__ import print_function\n",
    "\n",
    "%matplotlib inline\n",
    "plt.rcParams['figure.figsize'] = (10.0, 8.0) # set default size of plots\n",
    "plt.rcParams['image.interpolation'] = 'nearest'\n",
    "plt.rcParams['image.cmap'] = 'gray'\n",
    "\n",
    "# for auto-reloading extenrnal modules\n",
    "# see http://stackoverflow.com/questions/1907993/autoreload-of-modules-in-ipython\n",
    "%load_ext autoreload\n",
    "%autoreload 2"
   ]
  },
  {
   "cell_type": "code",
   "execution_count": 2,
   "metadata": {},
   "outputs": [
    {
     "name": "stdout",
     "output_type": "stream",
     "text": [
      "Train data shape:  (49000, 3073)\n",
      "Train labels shape:  (49000,)\n",
      "Validation data shape:  (1000, 3073)\n",
      "Validation labels shape:  (1000,)\n",
      "Test data shape:  (1000, 3073)\n",
      "Test labels shape:  (1000,)\n",
      "dev data shape:  (500, 3073)\n",
      "dev labels shape:  (500,)\n"
     ]
    }
   ],
   "source": [
    "def get_CIFAR10_data(num_training=49000, num_validation=1000, num_test=1000, num_dev=500):\n",
    "    \"\"\"\n",
    "    Load the CIFAR-10 dataset from disk and perform preprocessing to prepare\n",
    "    it for the linear classifier. These are the same steps as we used for the\n",
    "    SVM, but condensed to a single function.  \n",
    "    \"\"\"\n",
    "    # Load the raw CIFAR-10 data\n",
    "    cifar10_dir = 'cs231n/datasets/cifar-10-batches-py'\n",
    "    \n",
    "    X_train, y_train, X_test, y_test = load_CIFAR10(cifar10_dir)\n",
    "    \n",
    "    # subsample the data\n",
    "    mask = list(range(num_training, num_training + num_validation))\n",
    "    X_val = X_train[mask]\n",
    "    y_val = y_train[mask]\n",
    "    mask = list(range(num_training))\n",
    "    X_train = X_train[mask]\n",
    "    y_train = y_train[mask]\n",
    "    mask = list(range(num_test))\n",
    "    X_test = X_test[mask]\n",
    "    y_test = y_test[mask]\n",
    "    mask = np.random.choice(num_training, num_dev, replace=False)\n",
    "    X_dev = X_train[mask]\n",
    "    y_dev = y_train[mask]\n",
    "    \n",
    "    # Preprocessing: reshape the image data into rows\n",
    "    X_train = np.reshape(X_train, (X_train.shape[0], -1))\n",
    "    X_val = np.reshape(X_val, (X_val.shape[0], -1))\n",
    "    X_test = np.reshape(X_test, (X_test.shape[0], -1))\n",
    "    X_dev = np.reshape(X_dev, (X_dev.shape[0], -1))\n",
    "    \n",
    "    # Normalize the data: subtract the mean image\n",
    "    mean_image = np.mean(X_train, axis = 0)\n",
    "    X_train -= mean_image\n",
    "    X_val -= mean_image\n",
    "    X_test -= mean_image\n",
    "    X_dev -= mean_image\n",
    "    \n",
    "    # add bias dimension and transform into columns\n",
    "    X_train = np.hstack([X_train, np.ones((X_train.shape[0], 1))])\n",
    "    X_val = np.hstack([X_val, np.ones((X_val.shape[0], 1))])\n",
    "    X_test = np.hstack([X_test, np.ones((X_test.shape[0], 1))])\n",
    "    X_dev = np.hstack([X_dev, np.ones((X_dev.shape[0], 1))])\n",
    "    \n",
    "    return X_train, y_train, X_val, y_val, X_test, y_test, X_dev, y_dev\n",
    "\n",
    "\n",
    "# Cleaning up variables to prevent loading data multiple times (which may cause memory issue)\n",
    "try:\n",
    "   del X_train, y_train\n",
    "   del X_test, y_test\n",
    "   print('Clear previously loaded data.')\n",
    "except:\n",
    "   pass\n",
    "\n",
    "# Invoke the above function to get our data.\n",
    "X_train, y_train, X_val, y_val, X_test, y_test, X_dev, y_dev = get_CIFAR10_data()\n",
    "print('Train data shape: ', X_train.shape)\n",
    "print('Train labels shape: ', y_train.shape)\n",
    "print('Validation data shape: ', X_val.shape)\n",
    "print('Validation labels shape: ', y_val.shape)\n",
    "print('Test data shape: ', X_test.shape)\n",
    "print('Test labels shape: ', y_test.shape)\n",
    "print('dev data shape: ', X_dev.shape)\n",
    "print('dev labels shape: ', y_dev.shape)"
   ]
  },
  {
   "cell_type": "markdown",
   "metadata": {},
   "source": [
    "## Softmax Classifier\n",
    "\n",
    "Your code for this section will all be written inside **cs231n/classifiers/softmax.py**. \n"
   ]
  },
  {
   "cell_type": "code",
   "execution_count": 3,
   "metadata": {},
   "outputs": [
    {
     "name": "stdout",
     "output_type": "stream",
     "text": [
      "loss: 2.381630\n",
      "sanity check: 2.302585\n"
     ]
    }
   ],
   "source": [
    "# First implement the naive softmax loss function with nested loops.\n",
    "# Open the file cs231n/classifiers/softmax.py and implement the\n",
    "# softmax_loss_naive function.\n",
    "\n",
    "from cs231n.classifiers.softmax import softmax_loss_naive\n",
    "import time\n",
    "\n",
    "# Generate a random softmax weight matrix and use it to compute the loss.\n",
    "W = np.random.randn(3073, 10) * 0.0001\n",
    "loss, grad = softmax_loss_naive(W, X_dev, y_dev, 0.0)\n",
    "\n",
    "# As a rough sanity check, our loss should be something close to -log(0.1).\n",
    "print('loss: %f' % loss)\n",
    "print('sanity check: %f' % (-np.log(0.1)))"
   ]
  },
  {
   "cell_type": "markdown",
   "metadata": {},
   "source": [
    "## Inline Question 1:\n",
    "Why do we expect our loss to be close to -log(0.1)? Explain briefly.**\n",
    "\n",
    "**Your answer:** *Fill this in*\n"
   ]
  },
  {
   "cell_type": "code",
   "execution_count": 4,
   "metadata": {},
   "outputs": [
    {
     "name": "stdout",
     "output_type": "stream",
     "text": [
      "numerical: 4.991768 analytic: 4.991768, relative error: 1.828399e-08\n",
      "numerical: -0.343655 analytic: -0.343655, relative error: 2.012410e-08\n",
      "numerical: -0.004372 analytic: -0.004372, relative error: 1.873257e-06\n",
      "numerical: 0.067112 analytic: 0.067112, relative error: 2.729713e-07\n",
      "numerical: 0.650448 analytic: 0.650448, relative error: 5.215776e-08\n",
      "numerical: 0.293662 analytic: 0.293662, relative error: 2.442613e-08\n",
      "numerical: -1.201681 analytic: -1.201681, relative error: 8.327977e-09\n",
      "numerical: -0.111014 analytic: -0.111014, relative error: 2.347510e-07\n",
      "numerical: 2.727957 analytic: 2.727957, relative error: 1.388527e-08\n",
      "numerical: 0.396122 analytic: 0.396122, relative error: 8.627944e-08\n",
      "numerical: 0.017806 analytic: 0.017806, relative error: 4.970819e-07\n",
      "numerical: -2.231127 analytic: -2.231127, relative error: 3.130693e-08\n",
      "numerical: -2.105820 analytic: -2.105820, relative error: 3.634388e-08\n",
      "numerical: 1.464546 analytic: 1.464546, relative error: 4.412875e-09\n",
      "numerical: -0.504621 analytic: -0.504621, relative error: 1.021678e-07\n",
      "numerical: -2.204356 analytic: -2.204356, relative error: 3.267346e-09\n",
      "numerical: 0.800394 analytic: 0.800394, relative error: 8.457861e-08\n",
      "numerical: -1.222955 analytic: -1.222956, relative error: 4.401598e-08\n",
      "numerical: 0.716166 analytic: 0.716166, relative error: 6.385651e-08\n",
      "numerical: 3.053892 analytic: 3.053892, relative error: 2.888532e-08\n"
     ]
    }
   ],
   "source": [
    "# Complete the implementation of softmax_loss_naive and implement a (naive)\n",
    "# version of the gradient that uses nested loops.\n",
    "loss, grad = softmax_loss_naive(W, X_dev, y_dev, 0.0)\n",
    "\n",
    "# As we did for the SVM, use numeric gradient checking as a debugging tool.\n",
    "# The numeric gradient should be close to the analytic gradient.\n",
    "from cs231n.gradient_check import grad_check_sparse\n",
    "f = lambda w: softmax_loss_naive(w, X_dev, y_dev, 0.0)[0]\n",
    "grad_numerical = grad_check_sparse(f, W, grad, 10)\n",
    "\n",
    "# similar to SVM case, do another gradient check with regularization\n",
    "loss, grad = softmax_loss_naive(W, X_dev, y_dev, 5e1)\n",
    "f = lambda w: softmax_loss_naive(w, X_dev, y_dev, 5e1)[0]\n",
    "grad_numerical = grad_check_sparse(f, W, grad, 10)"
   ]
  },
  {
   "cell_type": "code",
   "execution_count": 13,
   "metadata": {},
   "outputs": [
    {
     "name": "stdout",
     "output_type": "stream",
     "text": [
      "naive loss: 2.381630e+00 computed in 0.074738s\n",
      "vectorized loss: 2.381630e+00 computed in 0.003038s\n",
      "Loss difference: 0.000000\n",
      "Gradient difference: 0.000000\n"
     ]
    }
   ],
   "source": [
    "# Now that we have a naive implementation of the softmax loss function and its gradient,\n",
    "# implement a vectorized version in softmax_loss_vectorized.\n",
    "# The two versions should compute the same results, but the vectorized version should be\n",
    "# much faster.\n",
    "tic = time.time()\n",
    "loss_naive, grad_naive = softmax_loss_naive(W, X_dev, y_dev, 0.000005)\n",
    "toc = time.time()\n",
    "print('naive loss: %e computed in %fs' % (loss_naive, toc - tic))\n",
    "\n",
    "from cs231n.classifiers.softmax import softmax_loss_vectorized\n",
    "tic = time.time()\n",
    "loss_vectorized, grad_vectorized = softmax_loss_vectorized(W, X_dev, y_dev, 0.000005)\n",
    "toc = time.time()\n",
    "print('vectorized loss: %e computed in %fs' % (loss_vectorized, toc - tic))\n",
    "\n",
    "# As we did for the SVM, we use the Frobenius norm to compare the two versions\n",
    "# of the gradient.\n",
    "grad_difference = np.linalg.norm(grad_naive - grad_vectorized, ord='fro')\n",
    "print('Loss difference: %f' % np.abs(loss_naive - loss_vectorized))\n",
    "print('Gradient difference: %f' % grad_difference)"
   ]
  },
  {
   "cell_type": "code",
   "execution_count": 17,
   "metadata": {},
   "outputs": [
    {
     "name": "stdout",
     "output_type": "stream",
     "text": [
      "iteration 0 / 1500: loss 385.888401\n",
      "iteration 100 / 1500: loss 384.291456\n",
      "iteration 200 / 1500: loss 383.551314\n",
      "iteration 300 / 1500: loss 382.888012\n",
      "iteration 400 / 1500: loss 382.600540\n",
      "iteration 500 / 1500: loss 381.942836\n",
      "iteration 600 / 1500: loss 381.510947\n",
      "iteration 700 / 1500: loss 381.104622\n",
      "iteration 800 / 1500: loss 380.728137\n",
      "iteration 900 / 1500: loss 380.598583\n",
      "iteration 1000 / 1500: loss 380.291381\n",
      "iteration 1100 / 1500: loss 380.063040\n",
      "iteration 1200 / 1500: loss 379.831738\n",
      "iteration 1300 / 1500: loss 379.694532\n",
      "iteration 1400 / 1500: loss 379.141746\n",
      "iteration 0 / 1500: loss 780.278251\n",
      "iteration 100 / 1500: loss 778.545907\n",
      "iteration 200 / 1500: loss 776.837231\n",
      "iteration 300 / 1500: loss 776.228294\n",
      "iteration 400 / 1500: loss 775.361376\n",
      "iteration 500 / 1500: loss 774.610347\n",
      "iteration 600 / 1500: loss 774.211850\n",
      "iteration 700 / 1500: loss 773.190091\n",
      "iteration 800 / 1500: loss 772.563674\n",
      "iteration 900 / 1500: loss 772.078596\n",
      "iteration 1000 / 1500: loss 771.590346\n",
      "iteration 1100 / 1500: loss 771.313051\n",
      "iteration 1200 / 1500: loss 770.715772\n",
      "iteration 1300 / 1500: loss 770.029775\n",
      "iteration 1400 / 1500: loss 769.791616\n",
      "iteration 0 / 1500: loss 391.366580\n",
      "iteration 100 / 1500: loss 388.941477\n",
      "iteration 200 / 1500: loss 388.140762\n",
      "iteration 300 / 1500: loss 387.414306\n",
      "iteration 400 / 1500: loss 386.530181\n",
      "iteration 500 / 1500: loss 385.937651\n",
      "iteration 600 / 1500: loss 385.366506\n",
      "iteration 700 / 1500: loss 385.175828\n",
      "iteration 800 / 1500: loss 384.614936\n",
      "iteration 900 / 1500: loss 384.040719\n",
      "iteration 1000 / 1500: loss 383.633656\n",
      "iteration 1100 / 1500: loss 382.938036\n",
      "iteration 1200 / 1500: loss 382.814476\n",
      "iteration 1300 / 1500: loss 382.159303\n",
      "iteration 1400 / 1500: loss 382.438064\n",
      "iteration 0 / 1500: loss 789.301773\n",
      "iteration 100 / 1500: loss 786.474633\n",
      "iteration 200 / 1500: loss 784.892690\n",
      "iteration 300 / 1500: loss 783.361428\n",
      "iteration 400 / 1500: loss 782.162336\n",
      "iteration 500 / 1500: loss 780.981942\n",
      "iteration 600 / 1500: loss 779.711116\n",
      "iteration 700 / 1500: loss 778.880672\n",
      "iteration 800 / 1500: loss 777.926608\n",
      "iteration 900 / 1500: loss 777.108920\n",
      "iteration 1000 / 1500: loss 776.319472\n",
      "iteration 1100 / 1500: loss 775.246884\n",
      "iteration 1200 / 1500: loss 774.642869\n",
      "iteration 1300 / 1500: loss 773.959767\n",
      "iteration 1400 / 1500: loss 773.319961\n",
      "iteration 0 / 1500: loss 390.815918\n",
      "iteration 100 / 1500: loss 384.403697\n",
      "iteration 200 / 1500: loss 381.912809\n",
      "iteration 300 / 1500: loss 380.332828\n",
      "iteration 400 / 1500: loss 378.782873\n",
      "iteration 500 / 1500: loss 377.297503\n",
      "iteration 600 / 1500: loss 376.376466\n",
      "iteration 700 / 1500: loss 374.982705\n",
      "iteration 800 / 1500: loss 374.063273\n",
      "iteration 900 / 1500: loss 372.852649\n",
      "iteration 1000 / 1500: loss 372.019486\n",
      "iteration 1100 / 1500: loss 370.964506\n",
      "iteration 1200 / 1500: loss 370.119579\n",
      "iteration 1300 / 1500: loss 369.392922\n",
      "iteration 1400 / 1500: loss 368.531730\n",
      "iteration 0 / 1500: loss 778.188119\n",
      "iteration 100 / 1500: loss 768.935529\n",
      "iteration 200 / 1500: loss 764.423810\n",
      "iteration 300 / 1500: loss 761.025877\n",
      "iteration 400 / 1500: loss 757.481275\n",
      "iteration 500 / 1500: loss 754.539654\n",
      "iteration 600 / 1500: loss 752.053720\n",
      "iteration 700 / 1500: loss 749.403637\n",
      "iteration 800 / 1500: loss 747.445177\n",
      "iteration 900 / 1500: loss 745.379416\n",
      "iteration 1000 / 1500: loss 743.314475\n",
      "iteration 1100 / 1500: loss 741.418538\n",
      "iteration 1200 / 1500: loss 739.767269\n",
      "iteration 1300 / 1500: loss 737.838013\n",
      "iteration 1400 / 1500: loss 736.076034\n",
      "lr 5.000000e-08 reg 2.500000e+04 train accuracy: 0.212327 val accuracy: 0.231000\n",
      "lr 5.000000e-08 reg 5.000000e+04 train accuracy: 0.220082 val accuracy: 0.239000\n",
      "lr 1.000000e-07 reg 2.500000e+04 train accuracy: 0.253122 val accuracy: 0.249000\n",
      "lr 1.000000e-07 reg 5.000000e+04 train accuracy: 0.239143 val accuracy: 0.240000\n",
      "lr 5.000000e-07 reg 2.500000e+04 train accuracy: 0.322122 val accuracy: 0.297000\n",
      "lr 5.000000e-07 reg 5.000000e+04 train accuracy: 0.315306 val accuracy: 0.343000\n",
      "best validation accuracy achieved during cross-validation: 0.343000\n"
     ]
    }
   ],
   "source": [
    "# Use the validation set to tune hyperparameters (regularization strength and\n",
    "# learning rate). You should experiment with different ranges for the learning\n",
    "# rates and regularization strengths; if you are careful you should be able to\n",
    "# get a classification accuracy of over 0.35 on the validation set.\n",
    "from cs231n.classifiers import Softmax\n",
    "results = {}\n",
    "best_val = -1\n",
    "best_softmax = None\n",
    "learning_rates = [5e-8, 1e-7, 5e-7]\n",
    "regularization_strengths = [2.5e4, 5e4]\n",
    "\n",
    "################################################################################\n",
    "# TODO:                                                                        #\n",
    "# Use the validation set to set the learning rate and regularization strength. #\n",
    "# This should be identical to the validation that you did for the SVM; save    #\n",
    "# the best trained softmax classifer in best_softmax.                          #\n",
    "################################################################################\n",
    "for lr in learning_rates:\n",
    "    for rs in regularization_strengths:\n",
    "        softmax = Softmax()\n",
    "        loss_hist = softmax.train(X_train, y_train, lr, rs, num_iters=1500, verbose=True)\n",
    "        y_train_pred = softmax.predict(X_train)\n",
    "        y_train_acc = np.mean(y_train_pred == y_train)\n",
    "        y_val_pred = softmax.predict(X_val)\n",
    "        y_val_acc = np.mean(y_val == y_val_pred)\n",
    "        results[(lr, rs)] = (y_train_acc, y_val_acc)\n",
    "        if y_val_acc > best_val:\n",
    "            best_val = y_val_acc\n",
    "            best_softmax = softmax\n",
    "            \n",
    "################################################################################\n",
    "#                              END OF YOUR CODE                                #\n",
    "################################################################################\n",
    "    \n",
    "# Print out results.\n",
    "for lr, reg in sorted(results):\n",
    "    train_accuracy, val_accuracy = results[(lr, reg)]\n",
    "    print('lr %e reg %e train accuracy: %f val accuracy: %f' % (\n",
    "                lr, reg, train_accuracy, val_accuracy))\n",
    "    \n",
    "print('best validation accuracy achieved during cross-validation: %f' % best_val)"
   ]
  },
  {
   "cell_type": "code",
   "execution_count": 18,
   "metadata": {},
   "outputs": [
    {
     "name": "stdout",
     "output_type": "stream",
     "text": [
      "softmax on raw pixels final test set accuracy: 0.317000\n"
     ]
    }
   ],
   "source": [
    "# evaluate on test set\n",
    "# Evaluate the best softmax on test set\n",
    "y_test_pred = best_softmax.predict(X_test)\n",
    "test_accuracy = np.mean(y_test == y_test_pred)\n",
    "print('softmax on raw pixels final test set accuracy: %f' % (test_accuracy, ))"
   ]
  },
  {
   "cell_type": "markdown",
   "metadata": {},
   "source": [
    "**Inline Question** - *True or False*\n",
    "\n",
    "It's possible to add a new datapoint to a training set that would leave the SVM loss unchanged, but this is not the case with the Softmax classifier loss.\n",
    "\n",
    "*Your answer*: Yes\n",
    "\n",
    "*Your explanation*:"
   ]
  },
  {
   "cell_type": "code",
   "execution_count": 19,
   "metadata": {},
   "outputs": [
    {
     "data": {
      "image/png": "[encoded data removed]",
      "text/plain": [
       "<Figure size 432x288 with 10 Axes>"
      ]
     },
     "metadata": {},
     "output_type": "display_data"
    }
   ],
   "source": [
    "# Visualize the learned weights for each class\n",
    "w = best_softmax.W[:-1,:] # strip out the bias\n",
    "w = w.reshape(32, 32, 3, 10)\n",
    "\n",
    "w_min, w_max = np.min(w), np.max(w)\n",
    "\n",
    "classes = ['plane', 'car', 'bird', 'cat', 'deer', 'dog', 'frog', 'horse', 'ship', 'truck']\n",
    "for i in range(10):\n",
    "    plt.subplot(2, 5, i + 1)\n",
    "    \n",
    "    # Rescale the weights to be between 0 and 255\n",
    "    wimg = 255.0 * (w[:, :, :, i].squeeze() - w_min) / (w_max - w_min)\n",
    "    plt.imshow(wimg.astype('uint8'))\n",
    "    plt.axis('off')\n",
    "    plt.title(classes[i])"
   ]
  }
 ],
 "metadata": {
  "kernelspec": {
   "display_name": "Python [conda env:tensorflow]",
   "language": "python",
   "name": "conda-env-tensorflow-py"
  },
  "language_info": {
   "codemirror_mode": {
    "name": "ipython",
    "version": 3
   },
   "file_extension": ".py",
   "mimetype": "text/x-python",
   "name": "python",
   "nbconvert_exporter": "python",
   "pygments_lexer": "ipython3",
   "version": "3.5.5"
  }
 },
 "nbformat": 4,
 "nbformat_minor": 1
}
